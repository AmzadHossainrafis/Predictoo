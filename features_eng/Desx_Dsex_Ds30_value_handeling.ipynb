{
 "cells": [
  {
   "cell_type": "code",
   "execution_count": null,
   "metadata": {},
   "outputs": [],
   "source": [
    "import pandas as pd\n",
    "import numpy as np "
   ]
  },
  {
   "cell_type": "code",
   "execution_count": null,
   "metadata": {},
   "outputs": [],
   "source": [
    "# Read the data     final data \n",
    "df = pd.read_csv(r'C:\\Users\\Amzad\\Desktop\\stock-price-prediction(main)\\notebook\\data\\Final_Datasets - x8.csv')"
   ]
  },
  {
   "cell_type": "code",
   "execution_count": null,
   "metadata": {},
   "outputs": [],
   "source": [
    "def DS_value_handeling(df):\n",
    "    '''\n",
    "    arg : df = dataframe\n",
    "    return  : new_ds30,new_dsex,new_Dses = list of new value of ds30,dsex,Dses\n",
    "    summary : this function intarete backword mean of last 15 days \n",
    "\n",
    "\n",
    "    '''\n",
    " \n",
    "\n",
    "    new_ds30 = []\n",
    "    new_dsex = []\n",
    "    new_Dses = []\n",
    "\n",
    "    for i in range(679,0,-1):\n",
    "        value = round(np.mean(df['DS30'][i:i+15]),2)\n",
    "        #update the df['DS30'] column \n",
    "        df['DS30'][i-1] = value\n",
    "        new_ds30.append(value)\n",
    "        value = round(np.mean(df['DSEX'][i:i+15]),2)\n",
    "        #update the df['DSEX'] column\n",
    "        df['DSEX'][i-1] = value\n",
    "        new_dsex.append(value)\n",
    "        \n",
    "        value = round(np.mean(df['DSES'][i:i+15]),2)\n",
    "        #update the df['DSES'] column\n",
    "        df['DSES'][i-1] = value\n",
    "    \n",
    "\n",
    "    return new_ds30,new_dsex,new_Dses\n",
    "\n",
    "new_ds30,new_dsex,new_Dses = DS_value_handeling(df)\n",
    "\n",
    "    # DS30 value handeling "
   ]
  },
  {
   "cell_type": "code",
   "execution_count": null,
   "metadata": {},
   "outputs": [],
   "source": [
    "df['DS30'][670]"
   ]
  },
  {
   "cell_type": "code",
   "execution_count": null,
   "metadata": {},
   "outputs": [],
   "source": [
    "#save the updated data \n",
    "df.to_csv(r'C:\\Users\\Amzad\\Desktop\\stock-price-prediction(main)\\notebook\\data\\Final_Datasets_v1- x8.csv',index=False)\n"
   ]
  },
  {
   "cell_type": "code",
   "execution_count": null,
   "metadata": {},
   "outputs": [],
   "source": [
    "\n",
    "\n",
    "daily_data_dir = r'C:\\Users\\Amzad\\Desktop\\stock-price-prediction(main)\\notebook\\data\\Final_Datasets_v2- x8.csv'\n",
    "def dses_dsex_ds30_change(x=daily_data_dir):\n",
    "    '''\n",
    "    args: daily_data_dir(historica data directory)\n",
    "    return: Dses_change, Ds30_change, Dsex_change\n",
    "    \n",
    "    summary: return Dses_change, Ds30_change, Dsex_change list according to \n",
    "    date aviablity , the calculation is done by subtracting the previous day value\n",
    "    from the current day value. \n",
    "    \n",
    "    '''\n",
    "    Dses_change = [0]\n",
    "    Ds30_change = [0]\n",
    "    Dsex_change = [0]\n",
    "    df = pd.read_csv(x)\n",
    "    df=df.copy()\n",
    "    for i in range(1,len(df)):\n",
    "        Dses_change.append(df['DSES'][i]-df['DSES'][i-1])\n",
    "        Ds30_change.append(df['DS30'][i]-df['DS30'][i-1])\n",
    "        Dsex_change.append(df['DSEX'][i]-df['DSEX'][i-1])\n",
    "    return Dses_change, Ds30_change, Dsex_change\n",
    "\n",
    "\n",
    "\n",
    "Dses_change, Ds30_change, Dsex_change = dses_dsex_ds30_change(daily_data_dir)\n"
   ]
  }
 ],
 "metadata": {
  "kernelspec": {
   "display_name": "base",
   "language": "python",
   "name": "python3"
  },
  "language_info": {
   "codemirror_mode": {
    "name": "ipython",
    "version": 3
   },
   "file_extension": ".py",
   "mimetype": "text/x-python",
   "name": "python",
   "nbconvert_exporter": "python",
   "pygments_lexer": "ipython3",
   "version": "3.9.12"
  },
  "orig_nbformat": 4,
  "vscode": {
   "interpreter": {
    "hash": "4ef60fdc05b8c9d7c00029e41ed6e96799336c5489ef8cc1e2e0d70e844fa01c"
   }
  }
 },
 "nbformat": 4,
 "nbformat_minor": 2
}
