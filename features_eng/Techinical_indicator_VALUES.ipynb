{
 "cells": [
  {
   "cell_type": "code",
   "execution_count": 1,
   "metadata": {},
   "outputs": [],
   "source": [
    "import talib\n",
    "import pandas as pd \n",
    "import numpy as np\n",
    "from talib import abstract\n",
    "from talib.abstract import *"
   ]
  },
  {
   "cell_type": "code",
   "execution_count": 34,
   "metadata": {},
   "outputs": [],
   "source": [
    "def is_consolidating(df, percentage=2.5):\n",
    "\n",
    "    \"\"\"\n",
    "    args: \n",
    "        df = dataframe (stock data of last 15 candlesticks), \n",
    "        percentage = percentage of consolidation\n",
    "\n",
    "    returns: 0 if not consolidating, 1 if consolidating\n",
    "\n",
    "    summary: \n",
    "        This is a Python function that checks if a stock is consolidating by analyzing the previous 15 candlesticks of stock data in a pandas DataFrame (df). \n",
    "        The function takes a percentage value for percentage, which determines the minimum difference allowed between the maximum and minimum closing prices for\n",
    "        the stock to be considered consolidating.\n",
    "\n",
    "        If the difference between the maximum and minimum closing prices is less than or equal to the threshold calculated from the percentage value, \n",
    "        the function returns True, indicating that the stock is consolidating. Otherwise, it returns False, indicating that the stock is not consolidating. \n",
    "        The function returns values consistent with the docstring,\n",
    "        which says that it returns 0 if not consolidating and 1 if consolidating.\n",
    "\n",
    "    \"\"\"\n",
    "\n",
    "    recent_candlesticks = df[-15:]\n",
    "    \n",
    "    max_close = recent_candlesticks['Close'].max()\n",
    "    min_close = recent_candlesticks['Close'].min()\n",
    "\n",
    "    threshold = 1 - (percentage / 100)\n",
    "    if min_close > (max_close * threshold):\n",
    "        return True        \n",
    "\n",
    "    return False\n",
    "\n",
    "\n",
    "\n",
    "\n",
    "def is_breaking_out(df, percentage=2.5):\n",
    "\n",
    "    '''\n",
    "    args:\n",
    "    df = dataframe (last 15 days of data)\n",
    "    percentage = percentage of consolidation\n",
    "\n",
    "\n",
    "\n",
    "    returns: 0 if not breaking out, 1 if breaking out\n",
    "\n",
    "    summary: \n",
    "        This is a Python function that checks whether a stock is breaking out by analyzing the previous 15 days of stock data in a pandas DataFrame. \n",
    "        The function first checks if the stock is consolidating using another function, and if it is,\n",
    "        it checks if the most recent closing price is higher than the highest closing price in the previous 15 days.\n",
    "        If it is, the function returns True, otherwise it returns False.\n",
    "\n",
    "\n",
    "\n",
    "    '''\n",
    "    last_close = df[-1:]['Close'].values[0]\n",
    "\n",
    "    if is_consolidating(df[:-1], percentage=percentage):\n",
    "        recent_closes = df[-16:-1]\n",
    "\n",
    "        if last_close > recent_closes['Close'].max():\n",
    "            return True\n",
    "\n",
    "    return False\n",
    "\n",
    "\n",
    "\n",
    "\n",
    "\n",
    "read_stock_data = pd.read_csv(\n",
    "    r'C:\\Users\\Amzad\\Desktop\\stock_prediction\\components\\Stock Price Dataset - SQURPHARMA.csv')\n",
    "\n",
    "\n",
    "def chk_breakout_consolidate(read_stock_data=read_stock_data):\n",
    "    '''\n",
    "    args: read_stock_data = dataframe of stock(single company data) \n",
    "    returns: \n",
    "    breakout_indicator,consolidate_indicator date\n",
    "    summary: \n",
    "        This is a Python function that analyzes a DataFrame of stock data for a single company (read_stock_data) and determines if the stock is consolidating or\n",
    "        breaking out for each day in the data set. The function uses the is_consolidating() and is_breaking_out() functions previously defined to make this determination.\n",
    "        For each day in the data set, the function takes the previous 16 days of data and checks if the stock is consolidating or breaking out.\n",
    "        If the stock is consolidating, the function appends a value of 1 to the consolidate_indicator list, otherwise it appends 0. \n",
    "        If the stock is breaking out, the function appends a value of 1 to the breakout_indicator list, otherwise it appends 0.\n",
    "        The function also creates a list of dates for each day analyzed in the date list. The function returns the breakout_indicator, consolidate_indicator, and date lists.\n",
    "\n",
    "    '''\n",
    "    # Initialize empty lists for the breakout indicator, consolidate indicator, and date\n",
    "    breakout_indicator = []\n",
    "    consolidate_indicator = []\n",
    "    #add 16 days of 0 to the list\n",
    "    date = []\n",
    "    \n",
    "    # Start iterating from the 16th row of the DataFrame\n",
    "    date_srt = 16\n",
    "    for i in range(16, read_stock_data.shape[0]):\n",
    "        # Take the previous 16 rows of data\n",
    "        df = read_stock_data[i-16:i] # 16 days data (rows 0 to 15)\n",
    "        \n",
    "        # Determine if the stock is consolidating or not\n",
    "        if is_consolidating(df):\n",
    "            consolidate_indicator.append(1)\n",
    "        else: \n",
    "            consolidate_indicator.append(0)\n",
    "            \n",
    "        # Determine if the stock is breaking out or not\n",
    "        if is_breaking_out(df,percentage=0.5):\n",
    "            breakout_indicator.append(1)\n",
    "        else: \n",
    "            breakout_indicator.append(0) \n",
    "        \n",
    "      \n",
    "        date.append(read_stock_data.iloc[i]['Date'])\n",
    "\n",
    "    # Return the breakout indicator, consolidate indicator, and date lists\n",
    "    return breakout_indicator, consolidate_indicator, date\n",
    "\n",
    "\n",
    "breakout_indicator, consolidate_indicator, date = chk_breakout_consolidate(read_stock_data=read_stock_data)\n"
   ]
  },
  {
   "cell_type": "code",
   "execution_count": 10,
   "metadata": {},
   "outputs": [
    {
     "name": "stdout",
     "output_type": "stream",
     "text": [
      "5789 5789 5789\n"
     ]
    }
   ],
   "source": [
    "print(len(breakout_indicator), len(consolidate_indicator), len(date))"
   ]
  },
  {
   "cell_type": "code",
   "execution_count": 4,
   "metadata": {},
   "outputs": [],
   "source": [
    "count = [3.5,3.0,2.5,2.0,1.5,1.0,0.5]\n",
    "persentage = [319, 244, 169, 103, 49, 13, 5] "
   ]
  },
  {
   "cell_type": "code",
   "execution_count": 35,
   "metadata": {},
   "outputs": [],
   "source": [
    "\n",
    "\n",
    "#count all the 1's in the breakout_indicator list \n",
    "breakout_count = 0\n",
    "for i in breakout_indicator:\n",
    "    if i == 1:\n",
    "        breakout_count += 1\n",
    "\n",
    "persentage.append(breakout_count)\n"
   ]
  },
  {
   "cell_type": "code",
   "execution_count": 36,
   "metadata": {},
   "outputs": [
    {
     "name": "stdout",
     "output_type": "stream",
     "text": [
      "[319, 244, 169, 103, 49, 13, 5]\n"
     ]
    }
   ],
   "source": [
    "print(persentage)"
   ]
  },
  {
   "cell_type": "code",
   "execution_count": 9,
   "metadata": {},
   "outputs": [
    {
     "data": {
      "text/plain": [
       "<BarContainer object of 7 artists>"
      ]
     },
     "execution_count": 9,
     "metadata": {},
     "output_type": "execute_result"
    },
    {
     "data": {
      "image/png": "[encoded data removed]",
      "text/plain": [
       "<Figure size 640x480 with 1 Axes>"
      ]
     },
     "metadata": {},
     "output_type": "display_data"
    }
   ],
   "source": [
    "from matplotlib import pyplot as plt \n",
    "plt.bar(count, persentage , color='green')"
   ]
  },
  {
   "cell_type": "code",
   "execution_count": null,
   "metadata": {},
   "outputs": [],
   "source": [
    "Date= date\n",
    "df = pd.DataFrame({'Date':Date,'Breakout':breakout_indicator,'Consolidate':consolidate_indicator})\n",
    "#save it to csv file\n",
    "df.to_csv(r'C:\\Users\\Amzad\\Desktop\\stock-price-prediction(main)\\Feature Engineering\\Breakout_Consolidate.csv',index=False)"
   ]
  },
  {
   "cell_type": "markdown",
   "metadata": {},
   "source": []
  },
  {
   "cell_type": "code",
   "execution_count": 14,
   "metadata": {},
   "outputs": [],
   "source": [
    "Stock_Squre_data = pd.read_csv(r'C:\\Users\\Amzad\\Desktop\\stock-price-prediction(main)\\notebook\\data\\Stock Price Dataset - SQURPHARMA.csv')\n",
    "# take 1st 5 columns \n",
    "Stock_Squre_data = Stock_Squre_data.iloc[:,0:5]"
   ]
  },
  {
   "cell_type": "code",
   "execution_count": 16,
   "metadata": {},
   "outputs": [],
   "source": [
    "out_SMA=[]\n",
    "out_EMA=[] \n",
    "out_BBANDS_UPPER=[] \n",
    "out_BBANDS_MIDDLE=[]\n",
    "out_BBANDS_LOWER=[]\n",
    "out_STOCH_SLOWK=[]\n",
    "out_STOCH_SLOWD=[]\n",
    "\n",
    "for i in range(100,5805,100):\n",
    "\n",
    "     \n",
    "     \n",
    "    inputs = {\n",
    "          'open': Stock_Squre_data['Open'].iloc[i-100:i],               \n",
    "          'high': Stock_Squre_data['High'].iloc[i-100:i],\n",
    "          'low': Stock_Squre_data['Low'].iloc[i-100:i],\n",
    "          'close': Stock_Squre_data['Close'].iloc[i-100:i],\n",
    "          'volume': Stock_Squre_data['Volume'].iloc[i-100:i]\n",
    "               }\n",
    "    out_SMA.append(SMA(inputs,timeperiod=15))\n",
    "    upper, middle, lower = BBANDS(inputs, 20, 2.0, 2.0)\n",
    "    out_BBANDS_UPPER.append(upper)\n",
    "    out_BBANDS_MIDDLE.append(middle)\n",
    "    out_BBANDS_LOWER.append(lower)\n",
    "    slowk, slowd = STOCH(inputs, 5, 3, 0, 3, 0, prices=['high', 'low', 'open'])\n",
    "    out_STOCH_SLOWK.append(slowk)\n",
    "    out_STOCH_SLOWD.append(slowd)\n",
    "\n",
    "    #FOR LAST 5 DAYS \n",
    "    if i == 5800:\n",
    "        inputs = {\n",
    "        'open': Stock_Squre_data['Open'].iloc[5800:5805],               \n",
    "        'high': Stock_Squre_data['High'].iloc[5800:5805],   \n",
    "        'low': Stock_Squre_data['Low'].iloc[5800:5805],\n",
    "        'close': Stock_Squre_data['Close'].iloc[5800:5805],\n",
    "        'volume': Stock_Squre_data['Volume'].iloc[5800:5805]\n",
    "            }\n",
    "        out_SMA.append(SMA(inputs,timeperiod=5,))\n",
    "        upper, middle, lower = BBANDS(inputs, 20, 2.0, 2.0)\n",
    "        out_BBANDS_UPPER.append(upper)\n",
    "        out_BBANDS_MIDDLE.append(middle)    \n",
    "        out_BBANDS_LOWER.append(lower)\n",
    "        slowk, slowd = STOCH(inputs, 5, 3, 0, 3, 0, prices=['high', 'low', 'open'])\n",
    "        out_STOCH_SLOWK.append(slowk)\n",
    "        out_STOCH_SLOWD.append(slowd)\n",
    "\n",
    "    \n"
   ]
  },
  {
   "cell_type": "code",
   "execution_count": 17,
   "metadata": {},
   "outputs": [],
   "source": [
    "out_SMA_col=[]\n",
    "out_BBANDS_UPPER_col=[] \n",
    "out_BBANDS_MIDDLE_col=[]\n",
    "out_BBANDS_LOWER_col=[]\n",
    "out_STOCH_SLOWK_col=[]\n",
    "out_STOCH_SLOWD_col=[]\n",
    "\n",
    "\n",
    "\n",
    "\n",
    "for i in range(0,59):\n",
    "    for j in range(0,100):\n",
    "        try:\n",
    "            out_SMA_col.append(out_SMA[i][j])\n",
    "            out_BBANDS_UPPER_col.append(out_BBANDS_UPPER[i][j])\n",
    "            out_BBANDS_MIDDLE_col.append(out_BBANDS_MIDDLE[i][j])\n",
    "            out_BBANDS_LOWER_col.append(out_BBANDS_LOWER[i][j])\n",
    "            out_STOCH_SLOWK_col.append(out_STOCH_SLOWK[i][j])\n",
    "            out_STOCH_SLOWD_col.append(out_STOCH_SLOWD[i][j])\n",
    "        except:\n",
    "            pass \n",
    "\n",
    "        \n",
    "         "
   ]
  },
  {
   "cell_type": "code",
   "execution_count": 18,
   "metadata": {},
   "outputs": [
    {
     "data": {
      "text/plain": [
       "(5805, 6)"
      ]
     },
     "execution_count": 18,
     "metadata": {},
     "output_type": "execute_result"
    }
   ],
   "source": [
    "#make dataframe \n",
    "df = pd.DataFrame({'SMA':out_SMA_col,'BBANDS_UPPER':out_BBANDS_UPPER_col,'BBANDS_MIDDLE':out_BBANDS_MIDDLE_col,'BBANDS_LOWER':out_BBANDS_LOWER_col,'STOCH_SLOWK':out_STOCH_SLOWK_col,'STOCH_SLOWD':out_STOCH_SLOWD_col})\n",
    "df.shape"
   ]
  },
  {
   "cell_type": "code",
   "execution_count": 27,
   "metadata": {},
   "outputs": [],
   "source": [
    "out_CDLTAKURI=[]\n",
    "out_CDLTASUKIGAP=[]\n",
    "out_CDLTHRUSTING=[]\n",
    "out_CDLTRISTAR=[]\n",
    "out_CDLUNIQUE3RIVER=[]\n",
    "out_CDLUPSIDEGAP2CROWS=[]\n",
    "out_CDLXSIDEGAP3METHODS=[]\n",
    "out_CDLSHORTLINE=[]\n",
    "\n",
    "\n",
    "for i in range(100,5805,100):\n",
    "    inputs = {\n",
    "          'open': Stock_Squre_data['Open'].iloc[i-100:i],               \n",
    "          'high': Stock_Squre_data['High'].iloc[i-100:i],\n",
    "          'low': Stock_Squre_data['Low'].iloc[i-100:i],\n",
    "          'close': Stock_Squre_data['Close'].iloc[i-100:i],\n",
    "          'volume': Stock_Squre_data['Volume'].iloc[i-100:i]\n",
    "               }\n",
    "    out_CDLTAKURI.append(CDLTAKURI(inputs,timeperiod=15))\n",
    "    out_CDLTASUKIGAP.append(CDLTASUKIGAP(inputs,timeperiod=15))\n",
    "    out_CDLTHRUSTING.append(CDLTHRUSTING(inputs,timeperiod=15))\n",
    "    out_CDLTRISTAR.append(CDLTRISTAR(inputs,timeperiod=15))\n",
    "    out_CDLUNIQUE3RIVER.append(CDLUNIQUE3RIVER(inputs,timeperiod=15))\n",
    "    out_CDLUPSIDEGAP2CROWS.append(CDLUPSIDEGAP2CROWS(inputs,timeperiod=15))\n",
    "    out_CDLXSIDEGAP3METHODS.append(CDLXSIDEGAP3METHODS(inputs,timeperiod=15))\n",
    "    out_CDLSHORTLINE.append(CDLSHORTLINE(inputs,timeperiod=15))\n",
    "    \n",
    "    #FOR LAST 5 DAYS \n",
    "    if i == 5800:\n",
    "        inputs = {\n",
    "        'open': Stock_Squre_data['Open'].iloc[5800:5805],               \n",
    "        'high': Stock_Squre_data['High'].iloc[5800:5805],   \n",
    "        'low': Stock_Squre_data['Low'].iloc[5800:5805],\n",
    "        'close': Stock_Squre_data['Close'].iloc[5800:5805],\n",
    "        'volume': Stock_Squre_data['Volume'].iloc[5800:5805]\n",
    "            }\n",
    "        out_CDLTAKURI.append(CDLTAKURI(inputs,timeperiod=5))\n",
    "        out_CDLTASUKIGAP.append(CDLTASUKIGAP(inputs,timeperiod=5))\n",
    "        out_CDLTHRUSTING.append(CDLTHRUSTING(inputs,timeperiod=5))\n",
    "        out_CDLTRISTAR.append(CDLTRISTAR(inputs,timeperiod=5))\n",
    "        out_CDLUNIQUE3RIVER.append(CDLUNIQUE3RIVER(inputs,timeperiod=5))\n",
    "        out_CDLUPSIDEGAP2CROWS.append(CDLUPSIDEGAP2CROWS(inputs,timeperiod=5))\n",
    "        out_CDLXSIDEGAP3METHODS.append(CDLXSIDEGAP3METHODS(inputs,  timeperiod=5))\n",
    "        out_CDLSHORTLINE.append(CDLSHORTLINE(inputs,timeperiod=5))\n",
    "\n",
    "\n",
    "\n"
   ]
  },
  {
   "cell_type": "code",
   "execution_count": 28,
   "metadata": {},
   "outputs": [],
   "source": [
    "out_CDLTAKURI_col=[]\n",
    "out_CDLTASUKIGAP_col=[]\n",
    "out_CDLTHRUSTING_col=[]\n",
    "out_CDLTRISTAR_col=[]\n",
    "out_CDLUNIQUE3RIVER_col=[]\n",
    "out_CDLUPSIDEGAP2CROWS_col=[]\n",
    "out_CDLXSIDEGAP3METHODS_col=[]\n",
    "out_CDLSHORTLINE_col=[]\n",
    "\n",
    "for i in range(0,59):\n",
    "    for j in range(0,100):\n",
    "        try:\n",
    "            out_CDLTAKURI_col.append(out_CDLTAKURI[i][j])\n",
    "            out_CDLTASUKIGAP_col.append(out_CDLTASUKIGAP[i][j])\n",
    "            out_CDLTHRUSTING_col.append(out_CDLTHRUSTING[i][j])\n",
    "            out_CDLTRISTAR_col.append(out_CDLTRISTAR[i][j])\n",
    "            out_CDLUNIQUE3RIVER_col.append(out_CDLUNIQUE3RIVER[i][j])\n",
    "            out_CDLUPSIDEGAP2CROWS_col.append(out_CDLUPSIDEGAP2CROWS[i][j])\n",
    "            out_CDLXSIDEGAP3METHODS_col.append(out_CDLXSIDEGAP3METHODS[i][j])\n",
    "            out_CDLSHORTLINE_col.append(out_CDLSHORTLINE[i][j])\n",
    "        except:\n",
    "            pass\n"
   ]
  },
  {
   "cell_type": "code",
   "execution_count": 29,
   "metadata": {},
   "outputs": [
    {
     "name": "stdout",
     "output_type": "stream",
     "text": [
      "(5805, 8)\n"
     ]
    }
   ],
   "source": [
    "#make dataframe \n",
    "df = pd.DataFrame({\"CDLTAKURI\" : out_CDLTAKURI_col,\"CDLTASUKIGAP\" : out_CDLTASUKIGAP_col, \"CDLTHRUSTING\" : out_CDLTHRUSTING_col,\"CDLTRISTAR\" : out_CDLTRISTAR_col,\"CDLUNIQUE3RIVER\" : out_CDLUNIQUE3RIVER_col,\"CDLUPSIDEGAP2CROWS\" : out_CDLUPSIDEGAP2CROWS_col,\"CDLXSIDEGAP3METHODS\" : out_CDLXSIDEGAP3METHODS_col,\"CDLSHORTLINE\" : out_CDLSHORTLINE_col })\n",
    "print(df.shape)\n"
   ]
  },
  {
   "cell_type": "code",
   "execution_count": 30,
   "metadata": {},
   "outputs": [],
   "source": [
    "out_CDLMATHOLD=[]\n",
    "out_CDLMORNINGDOJISTAR=[]\n",
    "out_CDLMORNINGSTAR=[] \n",
    "out_CDLONNECK=[]\n",
    "out_CDLPIERCING=[]\n",
    "out_CDLRICKSHAWMAN=[]\n",
    "out_CDLRISEFALL3METHODS=[]\n",
    "out_CDLSEPARATINGLINES=[]\n",
    "out_CDLSPINNINGTOP=[]\n",
    "out_CDLSTALLEDPATTERN=[]\n",
    "out_CDLSTICKSANDWICH=[]\n",
    "\n",
    "for i in range(100,5805,100):\n",
    "    inputs = {\n",
    "          'open': Stock_Squre_data['Open'].iloc[i-100:i],               \n",
    "          'high': Stock_Squre_data['High'].iloc[i-100:i],\n",
    "          'low': Stock_Squre_data['Low'].iloc[i-100:i],\n",
    "          'close': Stock_Squre_data['Close'].iloc[i-100:i],\n",
    "          'volume': Stock_Squre_data['Volume'].iloc[i-100:i]\n",
    "               }\n",
    "    out_CDLMATHOLD.append(CDLMATHOLD(inputs,timeperiod=15))\n",
    "    out_CDLMORNINGDOJISTAR.append(CDLMORNINGDOJISTAR(inputs, timeperiod=15))\n",
    "    out_CDLMORNINGSTAR.append(CDLMORNINGSTAR(inputs, timeperiod=15))\n",
    "    out_CDLONNECK.append(CDLONNECK(inputs, penetration=15))\n",
    "    out_CDLPIERCING.append(CDLPIERCING(inputs, penetration=15))\n",
    "    out_CDLRICKSHAWMAN.append(CDLRICKSHAWMAN(inputs, penetration=15))\n",
    "    out_CDLRISEFALL3METHODS.append(CDLRISEFALL3METHODS(inputs, penetration=15))\n",
    "    out_CDLSEPARATINGLINES.append(CDLSEPARATINGLINES(inputs, penetration=15))\n",
    "    out_CDLSPINNINGTOP.append(CDLSPINNINGTOP(inputs, penetration=15))\n",
    "    out_CDLSTALLEDPATTERN.append(CDLSTALLEDPATTERN(inputs, penetration=15))\n",
    "    out_CDLSTICKSANDWICH.append(CDLSTICKSANDWICH(inputs, penetration=15))\n",
    "    \n",
    "    #FOR LAST 5 DAYS \n",
    "    if i == 5800:\n",
    "        inputs = {\n",
    "        'open': Stock_Squre_data['Open'].iloc[5800:5805],               \n",
    "        'high': Stock_Squre_data['High'].iloc[5800:5805],   \n",
    "        'low': Stock_Squre_data['Low'].iloc[5800:5805],\n",
    "        'close': Stock_Squre_data['Close'].iloc[5800:5805],\n",
    "        'volume': Stock_Squre_data['Volume'].iloc[5800:5805]\n",
    "            }\n",
    "        out_CDLMATHOLD.append(CDLMATHOLD(inputs,timeperiod=5))\n",
    "        out_CDLMORNINGDOJISTAR.append(CDLMORNINGDOJISTAR(inputs, timeperiod=5))\n",
    "        out_CDLMORNINGSTAR.append(CDLMORNINGSTAR(inputs, timeperiod=5))\n",
    "        out_CDLONNECK.append(CDLONNECK(inputs, penetration=5))\n",
    "        out_CDLPIERCING.append(CDLPIERCING(inputs, penetration=5))\n",
    "        out_CDLRICKSHAWMAN.append(CDLRICKSHAWMAN(inputs, penetration=5))\n",
    "        out_CDLRISEFALL3METHODS.append(CDLRISEFALL3METHODS(inputs, penetration=5))\n",
    "        out_CDLSEPARATINGLINES.append(CDLSEPARATINGLINES(inputs, penetration=5))\n",
    "        out_CDLSPINNINGTOP.append(CDLSPINNINGTOP(inputs, penetration=5))\n",
    "        out_CDLSTALLEDPATTERN.append(CDLSTALLEDPATTERN(inputs, penetration=5))\n",
    "        out_CDLSTICKSANDWICH.append(CDLSTICKSANDWICH(inputs, penetration=5))\n",
    "\n",
    "\n",
    "        \n",
    "  \n"
   ]
  },
  {
   "cell_type": "code",
   "execution_count": 31,
   "metadata": {},
   "outputs": [],
   "source": [
    "out_CDLMATHOLD_col=[]\n",
    "out_CDLMORNINGDOJISTAR_col=[]\n",
    "out_CDLMORNINGSTAR_col=[] \n",
    "out_CDLONNECK_col=[]\n",
    "out_CDLPIERCING_col=[]\n",
    "out_CDLRICKSHAWMAN_col=[]\n",
    "out_CDLRISEFALL3METHODS_col=[]\n",
    "out_CDLSEPARATINGLINES_col=[]\n",
    "out_CDLSPINNINGTOP_col=[]\n",
    "out_CDLSTALLEDPATTERN_col=[]\n",
    "out_CDLSTICKSANDWICH_col=[]\n",
    "\n",
    "\n",
    "\n",
    "for i in range(0,59):\n",
    "    for j in range(0,100):\n",
    "        try:\n",
    "            out_CDLMATHOLD_col.append(out_CDLMATHOLD[i][j])\n",
    "            out_CDLMORNINGDOJISTAR_col.append(out_CDLMORNINGDOJISTAR[i][j])\n",
    "            out_CDLMORNINGSTAR_col.append(out_CDLMORNINGSTAR[i][j])\n",
    "            out_CDLONNECK_col.append(out_CDLONNECK[i][j])\n",
    "            out_CDLPIERCING_col.append(out_CDLPIERCING[i][j])\n",
    "            out_CDLRICKSHAWMAN_col.append(out_CDLRICKSHAWMAN[i][j])\n",
    "            out_CDLRISEFALL3METHODS_col.append(out_CDLRISEFALL3METHODS[i][j])\n",
    "            out_CDLSEPARATINGLINES_col.append(out_CDLSEPARATINGLINES[i][j])\n",
    "            out_CDLSPINNINGTOP_col.append(out_CDLSPINNINGTOP[i][j])\n",
    "            out_CDLSTALLEDPATTERN_col.append(out_CDLSTALLEDPATTERN[i][j])\n",
    "            out_CDLSTICKSANDWICH_col.append(out_CDLSTICKSANDWICH[i][j])\n",
    "        except:\n",
    "            pass\n"
   ]
  },
  {
   "cell_type": "code",
   "execution_count": 32,
   "metadata": {},
   "outputs": [
    {
     "data": {
      "text/plain": [
       "(5805, 11)"
      ]
     },
     "execution_count": 32,
     "metadata": {},
     "output_type": "execute_result"
    }
   ],
   "source": [
    "df = pd.DataFrame({'CDLMATHOLD':out_CDLMATHOLD_col, 'CDLMORNINGDOJISTAR':out_CDLMORNINGDOJISTAR_col, 'CDLMORNINGSTAR':out_CDLMORNINGSTAR_col, 'CDLONNECK':out_CDLONNECK_col, 'CDLPIERCING':out_CDLPIERCING_col, 'CDLRICKSHAWMAN':out_CDLRICKSHAWMAN_col, 'CDLRISEFALL3METHODS':out_CDLRISEFALL3METHODS_col, 'CDLSEPARATINGLINES':out_CDLSEPARATINGLINES_col, 'CDLSPINNINGTOP':out_CDLSPINNINGTOP_col, 'CDLSTALLEDPATTERN':out_CDLSTALLEDPATTERN_col, 'CDLSTICKSANDWICH':out_CDLSTICKSANDWICH_col})\n",
    "df.shape"
   ]
  },
  {
   "cell_type": "code",
   "execution_count": 33,
   "metadata": {},
   "outputs": [],
   "source": [
    "out_CDLHIKKAKEMOD=[]\n",
    "out_CDLHOMINGPIGEON=[]\n",
    "out_CDLIDENTICAL3CROWS=[]\n",
    "out_CDLINNECK=[]\n",
    "out_CDLINVERTEDHAMMER=[]\n",
    "out_CDLKICKING=[]\n",
    "out_CDLKICKINGBYLENGTH=[]\n",
    "out_CDLLADDERBOTTOM=[]\n",
    "out_CDLLONGLEGGEDDOJI=[]\n",
    "out_CDLLONGLINE=[]\n",
    "out_CDLMARUBOZU=[]\n",
    "out_CDLMATCHINGLOW=[]\n",
    "\n",
    "for i in range(100,5805,100):\n",
    "\n",
    "    inputs = {\n",
    "          'open': Stock_Squre_data['Open'].iloc[i-100:i],               \n",
    "          'high': Stock_Squre_data['High'].iloc[i-100:i],\n",
    "          'low': Stock_Squre_data['Low'].iloc[i-100:i],\n",
    "          'close': Stock_Squre_data['Close'].iloc[i-100:i],\n",
    "          'volume': Stock_Squre_data['Volume'].iloc[i-100:i]\n",
    "               }\n",
    "    out_CDLHIKKAKEMOD.append(CDLHIKKAKEMOD(inputs,timeperiod=15))\n",
    "    out_CDLHOMINGPIGEON.append(CDLHOMINGPIGEON(inputs, timeperiod=15))\n",
    "    out_CDLIDENTICAL3CROWS.append(CDLIDENTICAL3CROWS(inputs, timeperiod=15))\n",
    "    out_CDLINNECK.append(CDLINNECK(inputs, penetration=15))\n",
    "    out_CDLINVERTEDHAMMER.append(CDLINVERTEDHAMMER(inputs, penetration=15))\n",
    "    out_CDLKICKING.append(CDLKICKING(inputs, penetration=15))\n",
    "    out_CDLKICKINGBYLENGTH.append(CDLKICKINGBYLENGTH(inputs, penetration=15))\n",
    "    out_CDLLADDERBOTTOM.append(CDLLADDERBOTTOM(inputs, penetration=15))\n",
    "    out_CDLLONGLEGGEDDOJI.append(CDLLONGLEGGEDDOJI(inputs, penetration=15))\n",
    "    out_CDLLONGLINE.append(CDLLONGLINE(inputs, penetration=15))\n",
    "    out_CDLMARUBOZU.append(CDLMARUBOZU(inputs, penetration=15))\n",
    "    out_CDLMATCHINGLOW.append(CDLMATCHINGLOW(inputs, penetration=15))\n",
    "    \n",
    "    #FOR LAST 5 DAYS \n",
    "    if i == 5800:\n",
    "        inputs = {\n",
    "        'open': Stock_Squre_data['Open'].iloc[5800:5805],               \n",
    "        'high': Stock_Squre_data['High'].iloc[5800:5805],   \n",
    "        'low': Stock_Squre_data['Low'].iloc[5800:5805],\n",
    "        'close': Stock_Squre_data['Close'].iloc[5800:5805],\n",
    "        'volume': Stock_Squre_data['Volume'].iloc[5800:5805]\n",
    "            }\n",
    "        out_CDLHIKKAKEMOD.append(CDLHIKKAKEMOD(inputs,timeperiod=5))\n",
    "        out_CDLHOMINGPIGEON.append(CDLHOMINGPIGEON(inputs, timeperiod=5))\n",
    "        out_CDLIDENTICAL3CROWS.append(CDLIDENTICAL3CROWS(inputs, timeperiod=5))\n",
    "        out_CDLINNECK.append(CDLINNECK(inputs, penetration=5))\n",
    "        out_CDLINVERTEDHAMMER.append(CDLINVERTEDHAMMER(inputs, penetration=5))\n",
    "        out_CDLKICKING.append(CDLKICKING(inputs, penetration=5))\n",
    "        out_CDLKICKINGBYLENGTH.append(CDLKICKINGBYLENGTH(inputs, penetration=5))\n",
    "        out_CDLLADDERBOTTOM.append(CDLLADDERBOTTOM(inputs, penetration=5))\n",
    "        out_CDLLONGLEGGEDDOJI.append(CDLLONGLEGGEDDOJI(inputs, penetration=5))\n",
    "        out_CDLLONGLINE.append(CDLLONGLINE(inputs, penetration=5))\n",
    "        out_CDLMARUBOZU.append(CDLMARUBOZU(inputs, penetration=5))\n",
    "        out_CDLMATCHINGLOW.append(CDLMATCHINGLOW(inputs, penetration=5))\n",
    "\n",
    "        "
   ]
  },
  {
   "cell_type": "code",
   "execution_count": 34,
   "metadata": {},
   "outputs": [],
   "source": [
    "out_CDLHIKKAKEMOD_col=[]\n",
    "out_CDLHOMINGPIGEON_col=[]\n",
    "out_CDLIDENTICAL3CROWS_col=[]\n",
    "out_CDLINNECK_col=[]\n",
    "out_CDLINVERTEDHAMMER_col=[]\n",
    "out_CDLKICKING_col=[]\n",
    "out_CDLKICKINGBYLENGTH_col=[]\n",
    "out_CDLLADDERBOTTOM_col=[]\n",
    "out_CDLLONGLEGGEDDOJI_col=[]\n",
    "out_CDLLONGLINE_col=[]\n",
    "out_CDLMARUBOZU_col=[]\n",
    "out_CDLMATCHINGLOW_col=[]\n",
    "\n",
    "\n",
    "\n",
    "for i in range(0,59):\n",
    "    for j in range(0,100):\n",
    "        try:\n",
    "            out_CDLHIKKAKEMOD_col.append(out_CDLHIKKAKEMOD[i][j])\n",
    "            out_CDLHOMINGPIGEON_col.append(out_CDLHOMINGPIGEON[i][j])\n",
    "            out_CDLIDENTICAL3CROWS_col.append(out_CDLIDENTICAL3CROWS[i][j])\n",
    "            out_CDLINNECK_col.append(out_CDLINNECK[i][j])\n",
    "            out_CDLINVERTEDHAMMER_col.append(out_CDLINVERTEDHAMMER[i][j])\n",
    "            out_CDLKICKING_col.append(out_CDLKICKING[i][j])\n",
    "            out_CDLKICKINGBYLENGTH_col.append(out_CDLKICKINGBYLENGTH[i][j])\n",
    "            out_CDLLADDERBOTTOM_col.append(out_CDLLADDERBOTTOM[i][j])\n",
    "            out_CDLLONGLEGGEDDOJI_col.append(out_CDLLONGLEGGEDDOJI[i][j])\n",
    "            out_CDLLONGLINE_col.append(out_CDLLONGLINE[i][j])\n",
    "            out_CDLMARUBOZU_col.append(out_CDLMARUBOZU[i][j])\n",
    "            out_CDLMATCHINGLOW_col.append(out_CDLMATCHINGLOW[i][j])\n",
    "        except:\n",
    "            pass\n",
    "\n"
   ]
  },
  {
   "cell_type": "code",
   "execution_count": 35,
   "metadata": {},
   "outputs": [
    {
     "data": {
      "text/plain": [
       "(5805, 12)"
      ]
     },
     "execution_count": 35,
     "metadata": {},
     "output_type": "execute_result"
    }
   ],
   "source": [
    "#mask a dataframe \n",
    "df = pd.DataFrame({'CDLHIKKAKEMOD':out_CDLHIKKAKEMOD_col, 'CDLHOMINGPIGEON':out_CDLHOMINGPIGEON_col, 'CDLIDENTICAL3CROWS':out_CDLIDENTICAL3CROWS_col, 'CDLINNECK':out_CDLINNECK_col, 'CDLINVERTEDHAMMER':out_CDLINVERTEDHAMMER_col, 'CDLKICKING':out_CDLKICKING_col, 'CDLKICKINGBYLENGTH':out_CDLKICKINGBYLENGTH_col, 'CDLLADDERBOTTOM':out_CDLLADDERBOTTOM_col, 'CDLLONGLEGGEDDOJI':out_CDLLONGLEGGEDDOJI_col, 'CDLLONGLINE':out_CDLLONGLINE_col, 'CDLMARUBOZU':out_CDLMARUBOZU_col, 'CDLMATCHINGLOW':out_CDLMATCHINGLOW_col})\n",
    "df.shape\n"
   ]
  },
  {
   "cell_type": "code",
   "execution_count": 36,
   "metadata": {},
   "outputs": [],
   "source": [
    "out_CDLEVENINGDOJISTAR = []\n",
    "out_CDLEVENINGSTAR = []\n",
    "out_CDLGAPSIDESIDEWHITE = []\n",
    "out_CDLGRAVESTONEDOJI = []\n",
    "out_CDLHAMMER = []\n",
    "out_CDLHANGINGMAN = []\n",
    "out_CDLHARAMI=[]\n",
    "out_CDLHARAMICROSS=[]\n",
    "out_CDLHIGHWAVE=[]\n",
    "out_CDLHIKKAKE=[]\n",
    "\n",
    "for i in range(100,5805,100):\n",
    "    \n",
    "        inputs = {\n",
    "            'open': Stock_Squre_data['Open'].iloc[i-100:i],               \n",
    "            'high': Stock_Squre_data['High'].iloc[i-100:i],\n",
    "            'low': Stock_Squre_data['Low'].iloc[i-100:i],\n",
    "            'close': Stock_Squre_data['Close'].iloc[i-100:i],\n",
    "            'volume': Stock_Squre_data['Volume'].iloc[i-100:i]\n",
    "                }\n",
    "        out_CDLEVENINGDOJISTAR.append(CDLEVENINGDOJISTAR(inputs,timeperiod=15))\n",
    "        out_CDLEVENINGSTAR.append(CDLEVENINGSTAR(inputs, timeperiod=15))\n",
    "        out_CDLGAPSIDESIDEWHITE.append(CDLGAPSIDESIDEWHITE(inputs, timeperiod=15))\n",
    "        out_CDLGRAVESTONEDOJI.append(CDLGRAVESTONEDOJI(inputs, penetration=15))\n",
    "        out_CDLHAMMER.append(CDLHAMMER(inputs, penetration=15))\n",
    "        out_CDLHANGINGMAN.append(CDLHANGINGMAN(inputs, penetration=15))\n",
    "        out_CDLHARAMI.append(CDLHARAMI(inputs, penetration=15))\n",
    "        out_CDLHARAMICROSS.append(CDLHARAMICROSS(inputs, penetration=15))\n",
    "        out_CDLHIGHWAVE.append(CDLHIGHWAVE(inputs, penetration=15))\n",
    "        out_CDLHIKKAKE.append(CDLHIKKAKE(inputs, penetration=15))\n",
    "        \n",
    "        #FOR LAST 5 DAYS \n",
    "        if i == 5800:\n",
    "            inputs = {\n",
    "            'open': Stock_Squre_data['Open'].iloc[5800:5805],               \n",
    "            'high': Stock_Squre_data['High'].iloc[5800:5805],   \n",
    "            'low': Stock_Squre_data['Low'].iloc[5800:5805],\n",
    "            'close': Stock_Squre_data['Close'].iloc[5800:5805],\n",
    "            'volume': Stock_Squre_data['Volume'].iloc[5800:5805]\n",
    "                }\n",
    "            out_CDLEVENINGDOJISTAR.append(CDLEVENINGDOJISTAR(inputs,timeperiod=5))\n",
    "            out_CDLEVENINGSTAR.append(CDLEVENINGSTAR(inputs, timeperiod=5))\n",
    "            out_CDLGAPSIDESIDEWHITE.append(CDLGAPSIDESIDEWHITE(inputs, timeperiod=5))\n",
    "            out_CDLGRAVESTONEDOJI.append(CDLGRAVESTONEDOJI(inputs, penetration=5))\n",
    "            out_CDLHAMMER.append(CDLHAMMER(inputs, penetration=5))\n",
    "            out_CDLHANGINGMAN.append(CDLHANGINGMAN(inputs, penetration=5))\n",
    "            out_CDLHARAMI.append(CDLHARAMI(inputs, penetration=5))\n",
    "            out_CDLHARAMICROSS.append(CDLHARAMICROSS(inputs, penetration=5))\n",
    "            out_CDLHIGHWAVE.append(CDLHIGHWAVE(inputs, penetration=5))\n",
    "            out_CDLHIKKAKE.append(CDLHIKKAKE(inputs, penetration=5))\n",
    "\n",
    "            "
   ]
  },
  {
   "cell_type": "code",
   "execution_count": 37,
   "metadata": {},
   "outputs": [],
   "source": [
    "out_CDLEVENINGDOJISTAR_col = []\n",
    "out_CDLEVENINGSTAR_col = []\n",
    "out_CDLGAPSIDESIDEWHITE_col = []\n",
    "out_CDLGRAVESTONEDOJI_col = []\n",
    "out_CDLHAMMER_col = []\n",
    "out_CDLHANGINGMAN_col = []\n",
    "out_CDLHARAMI_col=[]\n",
    "out_CDLHARAMICROSS_col=[]\n",
    "out_CDLHIGHWAVE_col=[]\n",
    "out_CDLHIKKAKE_col=[]\n",
    "\n",
    "\n",
    "for i in range(0,59):\n",
    "    for j in range(0,100):\n",
    "        try:\n",
    "            out_CDLEVENINGDOJISTAR_col.append(out_CDLEVENINGDOJISTAR[i][j])\n",
    "            out_CDLEVENINGSTAR_col.append(out_CDLEVENINGSTAR[i][j])\n",
    "            out_CDLGAPSIDESIDEWHITE_col.append(out_CDLGAPSIDESIDEWHITE[i][j])\n",
    "            out_CDLGRAVESTONEDOJI_col.append(out_CDLGRAVESTONEDOJI[i][j])\n",
    "            out_CDLHAMMER_col.append(out_CDLHAMMER[i][j])\n",
    "            out_CDLHANGINGMAN_col.append(out_CDLHANGINGMAN[i][j])\n",
    "            out_CDLHARAMI_col.append(out_CDLHARAMI[i][j])\n",
    "            out_CDLHARAMICROSS_col.append(out_CDLHARAMICROSS[i][j])\n",
    "            out_CDLHIGHWAVE_col.append(out_CDLHIGHWAVE[i][j])\n",
    "            out_CDLHIKKAKE_col.append(out_CDLHIKKAKE[i][j])\n",
    "        except:\n",
    "            pass\n",
    "\n"
   ]
  },
  {
   "cell_type": "code",
   "execution_count": 38,
   "metadata": {},
   "outputs": [
    {
     "data": {
      "text/plain": [
       "(5805, 10)"
      ]
     },
     "execution_count": 38,
     "metadata": {},
     "output_type": "execute_result"
    }
   ],
   "source": [
    "#make a dataframe \n",
    "df = pd.DataFrame({'CDLEVENINGDOJISTAR' : out_CDLEVENINGDOJISTAR_col, 'CDLEVENINGSTAR' : out_CDLEVENINGSTAR_col ,'CDLGAPSIDESIDEWHITE' : out_CDLGAPSIDESIDEWHITE_col, 'CDLGRAVESTONEDOJI' : out_CDLGRAVESTONEDOJI_col, 'CDLHAMMER' : out_CDLHAMMER_col, 'CDLHANGINGMAN' : out_CDLHANGINGMAN_col, 'CDLHARAMI' : out_CDLHARAMI_col, 'CDLHARAMICROSS' : out_CDLHARAMICROSS_col, 'CDLHIGHWAVE' : out_CDLHIGHWAVE_col, 'CDLHIKKAKE' : out_CDLHIKKAKE_col})\n",
    "df.shape"
   ]
  },
  {
   "cell_type": "code",
   "execution_count": 39,
   "metadata": {},
   "outputs": [],
   "source": [
    "out_CDLADVANCEBLOCK=[]\n",
    "out_CDLBELTHOLD=[]\n",
    "out_CDLBREAKAWAY=[]\n",
    "out_CDLCLOSINGMARUBOZU=[]\n",
    "out_CDLCONCEALBABYSWALL=[]\n",
    "out_CDLCOUNTERATTACK=[]\n",
    "#out_CDLDARKCLOUDCOVER=[]\n",
    "out_CDLDOJI= []\n",
    "out_CDLDOJISTAR = []\n",
    "out_CDLDRAGONFLYDOJI = []\n",
    "out_CDLENGULFING = []\n",
    "\n",
    "\n",
    "for i in range(100,5805,100):\n",
    "        \n",
    "            inputs = {\n",
    "                'open': Stock_Squre_data['Open'].iloc[i-100:i],               \n",
    "                'high': Stock_Squre_data['High'].iloc[i-100:i],\n",
    "                'low': Stock_Squre_data['Low'].iloc[i-100:i],\n",
    "                'close': Stock_Squre_data['Close'].iloc[i-100:i],\n",
    "                'volume': Stock_Squre_data['Volume'].iloc[i-100:i]\n",
    "                    }\n",
    "            out_CDLADVANCEBLOCK.append(CDLADVANCEBLOCK(inputs,timeperiod=15))\n",
    "            out_CDLBELTHOLD.append(CDLBELTHOLD(inputs, timeperiod=15))\n",
    "            out_CDLBREAKAWAY.append(CDLBREAKAWAY(inputs, timeperiod=15))\n",
    "            out_CDLCLOSINGMARUBOZU.append(CDLCLOSINGMARUBOZU(inputs, penetration=15))\n",
    "            out_CDLCONCEALBABYSWALL.append(CDLCONCEALBABYSWALL(inputs, penetration=15))\n",
    "            out_CDLCOUNTERATTACK.append(CDLCOUNTERATTACK(inputs, penetration=15))\n",
    "            #out_CDLDARKCLOUDCOVER.append(CDLDARKCLOUDCOVER(inputs, penetration=15))\n",
    "            out_CDLDOJI.append(CDLDOJI(inputs, penetration=15))\n",
    "            out_CDLDOJISTAR.append(CDLDOJISTAR(inputs, penetration=15))\n",
    "            out_CDLDRAGONFLYDOJI.append(CDLDRAGONFLYDOJI(inputs, penetration=15))\n",
    "            out_CDLENGULFING.append(CDLENGULFING(inputs, penetration=15))\n",
    "            \n",
    "            #FOR LAST 5 DAYS \n",
    "            if i == 5800:\n",
    "                inputs = {\n",
    "                'open': Stock_Squre_data['Open'].iloc[5800:5805],               \n",
    "                'high': Stock_Squre_data['High'].iloc[5800:5805],   \n",
    "                'low': Stock_Squre_data['Low'].iloc[5800:5805],\n",
    "                'close': Stock_Squre_data['Close'].iloc[5800:5805],\n",
    "                'volume': Stock_Squre_data['Volume'].iloc[5800:5805]\n",
    "                    }\n",
    "                out_CDLADVANCEBLOCK.append(CDLADVANCEBLOCK(inputs,timeperiod=5))\n",
    "                out_CDLBELTHOLD.append(CDLBELTHOLD(inputs, timeperiod=5))\n",
    "                out_CDLBREAKAWAY.append(CDLBREAKAWAY(inputs, timeperiod=5))\n",
    "                out_CDLCLOSINGMARUBOZU.append(CDLCLOSINGMARUBOZU(inputs, penetration=5))\n",
    "                out_CDLCONCEALBABYSWALL.append(CDLCONCEALBABYSWALL(inputs, penetration=5))\n",
    "                out_CDLCOUNTERATTACK.append(CDLCOUNTERATTACK(inputs, penetration=5))\n",
    "                #out_CDLDARKCLOUDCOVER.append(CDLDARKCLOUDCOVER(inputs, penetration=5))  \n",
    "                out_CDLDOJI.append(CDLDOJI(inputs, penetration=5))\n",
    "                out_CDLDOJISTAR.append(CDLDOJISTAR(inputs, penetration=5))\n",
    "                out_CDLDRAGONFLYDOJI.append(CDLDRAGONFLYDOJI(inputs, penetration=5))\n",
    "                out_CDLENGULFING.append(CDLENGULFING(inputs, penetration=5))\n",
    "                "
   ]
  },
  {
   "cell_type": "code",
   "execution_count": 40,
   "metadata": {},
   "outputs": [],
   "source": [
    "out_CDLADVANCEBLOCK_col=[]\n",
    "out_CDLBELTHOLD_col=[]\n",
    "out_CDLBREAKAWAY_col=[]\n",
    "out_CDLCLOSINGMARUBOZU_col=[]\n",
    "out_CDLCONCEALBABYSWALL_col=[]\n",
    "out_CDLCOUNTERATTACK_col=[]\n",
    "#out_CDLDARKCLOUDCOVER=[]\n",
    "out_CDLDOJI_col= []\n",
    "out_CDLDOJISTAR_col = []\n",
    "out_CDLDRAGONFLYDOJI_col = []\n",
    "out_CDLENGULFING_col = []\n",
    "\n",
    "\n",
    "for i in range(0,59):\n",
    "    for j in range(0,100):\n",
    "        try:\n",
    "            out_CDLADVANCEBLOCK_col.append(out_CDLADVANCEBLOCK[i][j])\n",
    "            out_CDLBELTHOLD_col.append(out_CDLBELTHOLD[i][j])\n",
    "            out_CDLBREAKAWAY_col.append(out_CDLBREAKAWAY[i][j])\n",
    "            out_CDLCLOSINGMARUBOZU_col.append(out_CDLCLOSINGMARUBOZU[i][j])\n",
    "            out_CDLCONCEALBABYSWALL_col.append(out_CDLCONCEALBABYSWALL[i][j])\n",
    "            out_CDLCOUNTERATTACK_col.append(out_CDLCOUNTERATTACK[i][j])\n",
    "            #out_CDLDARKCLOUDCOVER.append(out_CDLDARKCLOUDCOVER[i][j])\n",
    "            out_CDLDOJI_col.append(out_CDLDOJI[i][j])\n",
    "            out_CDLDOJISTAR_col.append(out_CDLDOJISTAR[i][j])\n",
    "            out_CDLDRAGONFLYDOJI_col.append(out_CDLDRAGONFLYDOJI[i][j])\n",
    "            out_CDLENGULFING_col.append(out_CDLENGULFING[i][j])\n",
    "        except:\n",
    "            pass\n",
    "\n"
   ]
  },
  {
   "cell_type": "code",
   "execution_count": 41,
   "metadata": {},
   "outputs": [
    {
     "data": {
      "text/plain": [
       "(5805, 10)"
      ]
     },
     "execution_count": 41,
     "metadata": {},
     "output_type": "execute_result"
    }
   ],
   "source": [
    "# make a dataframe of the columns\n",
    "df = pd.DataFrame({'CDLADVANCEBLOCK': out_CDLADVANCEBLOCK_col, 'CDLBELTHOLD': out_CDLBELTHOLD_col, 'CDLBREAKAWAY': out_CDLBREAKAWAY_col, 'CDLCLOSINGMARUBOZU': out_CDLCLOSINGMARUBOZU_col, 'CDLCONCEALBABYSWALL': out_CDLCONCEALBABYSWALL_col, 'CDLCOUNTERATTACK': out_CDLCOUNTERATTACK_col, 'CDLDOJI': out_CDLDOJI_col, 'CDLDOJISTAR': out_CDLDOJISTAR_col, 'CDLDRAGONFLYDOJI': out_CDLDRAGONFLYDOJI_col, 'CDLENGULFING': out_CDLENGULFING_col})\n",
    "\n",
    "df.shape"
   ]
  },
  {
   "cell_type": "code",
   "execution_count": 42,
   "metadata": {},
   "outputs": [],
   "source": [
    "out_CDLMORNINGDOJISTAR=[]\n",
    "out_CDLSHOOTINGSTAR=[]\n",
    "out_CDL2CROWS=[]\n",
    "out_CDL3BLACKCROWS=[]\n",
    "out_CDL3INSIDE=[]\n",
    "out_CDL3LINESTRIKE=[]\n",
    "out_CDL3OUTSIDE=[]\n",
    "out_CDL3STARSINSOUTH=[]\n",
    "out_CDL3WHITESOLDIERS=[]\n",
    "#out_CDLABANDONEDBABY=[]\n",
    "\n",
    "for i in range(100,5805,100):\n",
    "    \n",
    "            \n",
    "    inputs = {\n",
    "        'open': Stock_Squre_data['Open'].iloc[i-100:i],               \n",
    "        'high': Stock_Squre_data['High'].iloc[i-100:i],\n",
    "        'low': Stock_Squre_data['Low'].iloc[i-100:i],\n",
    "        'close': Stock_Squre_data['Close'].iloc[i-100:i],\n",
    "        'volume': Stock_Squre_data['Volume'].iloc[i-100:i]\n",
    "            }\n",
    "    out_CDLMORNINGDOJISTAR.append(CDLMORNINGDOJISTAR(inputs,timeperiod=15))\n",
    "    out_CDLSHOOTINGSTAR.append(CDLSHOOTINGSTAR(inputs, timeperiod=15))\n",
    "    out_CDL2CROWS.append(CDL2CROWS(inputs, timeperiod=15))\n",
    "    out_CDL3BLACKCROWS.append(CDL3BLACKCROWS(inputs, penetration=15))\n",
    "    out_CDL3INSIDE.append(CDL3INSIDE(inputs, penetration=15))\n",
    "    out_CDL3LINESTRIKE.append(CDL3LINESTRIKE(inputs, penetration=15))\n",
    "    out_CDL3OUTSIDE.append(CDL3OUTSIDE(inputs, penetration=15))\n",
    "    out_CDL3STARSINSOUTH.append(CDL3STARSINSOUTH(inputs, penetration=15))\n",
    "    out_CDL3WHITESOLDIERS.append(CDL3WHITESOLDIERS(inputs, penetration=15))\n",
    "    #out_CDLABANDONEDBABY.append(CDLABANDONEDBABY(inputs, penetration=15))\n",
    "    \n",
    "    #FOR LAST 5 DAYS \n",
    "    if i == 5800:\n",
    "        inputs = {\n",
    "        'open': Stock_Squre_data['Open'].iloc[5800:5805],               \n",
    "        'high': Stock_Squre_data['High'].iloc[5800:5805],   \n",
    "        'low': Stock_Squre_data['Low'].iloc[5800:5805],\n",
    "        'close': Stock_Squre_data['Close'].iloc[5800:5805],\n",
    "        'volume': Stock_Squre_data['Volume'].iloc[5800:5805]\n",
    "            }\n",
    "        out_CDLMORNINGDOJISTAR.append(CDLMORNINGDOJISTAR(inputs,timeperiod=5))\n",
    "        out_CDLSHOOTINGSTAR.append(CDLSHOOTINGSTAR(inputs, timeperiod=5))\n",
    "        out_CDL2CROWS.append(CDL2CROWS(inputs, timeperiod=5))\n",
    "        out_CDL3BLACKCROWS.append(CDL3BLACKCROWS(inputs, penetration=5))\n",
    "        out_CDL3INSIDE.append(CDL3INSIDE(inputs, penetration=5))\n",
    "        out_CDL3LINESTRIKE.append(CDL3LINESTRIKE(inputs, penetration=5))\n",
    "        out_CDL3OUTSIDE.append(CDL3OUTSIDE(inputs, penetration=5))  \n",
    "        out_CDL3STARSINSOUTH.append(CDL3STARSINSOUTH(inputs, penetration=5))\n",
    "        out_CDL3WHITESOLDIERS.append(CDL3WHITESOLDIERS(inputs, penetration=5))\n",
    "        #out_CDLABANDONEDBABY.append(CDLABANDONEDBABY(inputs, penetration=5))\n",
    "\n",
    "        "
   ]
  },
  {
   "cell_type": "code",
   "execution_count": 43,
   "metadata": {},
   "outputs": [
    {
     "name": "stdout",
     "output_type": "stream",
     "text": [
      "5805\n"
     ]
    }
   ],
   "source": [
    "out_CDLMORNINGDOJISTAR_col=[]\n",
    "out_CDLSHOOTINGSTAR_col=[]\n",
    "out_CDL2CROWS_col=[]\n",
    "out_CDL3BLACKCROWS_col=[]\n",
    "out_CDL3INSIDE_col=[]\n",
    "out_CDL3LINESTRIKE_col=[]\n",
    "out_CDL3OUTSIDE_col=[]\n",
    "out_CDL3STARSINSOUTH_col=[]\n",
    "out_CDL3WHITESOLDIERS_col=[]\n",
    "\n",
    "\n",
    "for i in range(0,59):\n",
    "    for j in range(0,100):\n",
    "        try:\n",
    "            out_CDLMORNINGDOJISTAR_col.append(out_CDLMORNINGDOJISTAR[i][j])\n",
    "            out_CDLSHOOTINGSTAR_col.append(out_CDLSHOOTINGSTAR[i][j])\n",
    "            out_CDL2CROWS_col.append(out_CDL2CROWS[i][j])\n",
    "            out_CDL3BLACKCROWS_col.append(out_CDL3BLACKCROWS[i][j])\n",
    "            out_CDL3INSIDE_col.append(out_CDL3INSIDE[i][j])\n",
    "            out_CDL3LINESTRIKE_col.append(out_CDL3LINESTRIKE[i][j])\n",
    "            out_CDL3OUTSIDE_col.append(out_CDL3OUTSIDE[i][j])\n",
    "            out_CDL3STARSINSOUTH_col.append(out_CDL3STARSINSOUTH[i][j])\n",
    "            out_CDL3WHITESOLDIERS_col.append(out_CDL3WHITESOLDIERS[i][j])\n",
    "        except:\n",
    "            pass\n",
    "\n",
    "print(len(out_CDL3BLACKCROWS_col))"
   ]
  },
  {
   "cell_type": "code",
   "execution_count": 44,
   "metadata": {},
   "outputs": [],
   "source": [
    "Stock_Squre_data = pd.read_csv(r'C:\\Users\\Amzad\\Desktop\\stock_prediction\\components\\Stock Price Dataset - SQURPHARMA.csv')\n",
    "date=Stock_Squre_data['Date']"
   ]
  },
  {
   "cell_type": "code",
   "execution_count": 45,
   "metadata": {},
   "outputs": [],
   "source": [
    "#make a dataframe with all the col\n",
    "\n",
    "df = pd.DataFrame({\"Date\": date ,'SMA':out_SMA_col,'BBANDS_UPPER':out_BBANDS_UPPER_col,'BBANDS_MIDDLE':out_BBANDS_MIDDLE_col,'BBANDS_LOWER':out_BBANDS_LOWER_col,'STOCH_SLOWK':out_STOCH_SLOWK_col,'STOCH_SLOWD':out_STOCH_SLOWD_col,\"CDLTAKURI\" : out_CDLTAKURI_col,\"CDLTASUKIGAP\" : out_CDLTASUKIGAP_col, \"CDLTHRUSTING\" : out_CDLTHRUSTING_col,\"CDLTRISTAR\" : out_CDLTRISTAR_col,\"CDLUNIQUE3RIVER\" : out_CDLUNIQUE3RIVER_col,\"CDLUPSIDEGAP2CROWS\" : out_CDLUPSIDEGAP2CROWS_col,\"CDLXSIDEGAP3METHODS\" : out_CDLXSIDEGAP3METHODS_col,\"CDLSHORTLINE\" : out_CDLSHORTLINE_col,'CDLMATHOLD':out_CDLMATHOLD_col, 'CDLMORNINGDOJISTAR':out_CDLMORNINGDOJISTAR_col, 'CDLMORNINGSTAR':out_CDLMORNINGSTAR_col, 'CDLONNECK':out_CDLONNECK_col, 'CDLPIERCING':out_CDLPIERCING_col, 'CDLRICKSHAWMAN':out_CDLRICKSHAWMAN_col, 'CDLRISEFALL3METHODS':out_CDLRISEFALL3METHODS_col, 'CDLSEPARATINGLINES':out_CDLSEPARATINGLINES_col, 'CDLSPINNINGTOP':out_CDLSPINNINGTOP_col, 'CDLSTALLEDPATTERN':out_CDLSTALLEDPATTERN_col, 'CDLSTICKSANDWICH':out_CDLSTICKSANDWICH_col,'CDLHIKKAKEMOD':out_CDLHIKKAKEMOD_col, 'CDLHOMINGPIGEON':out_CDLHOMINGPIGEON_col, 'CDLIDENTICAL3CROWS':out_CDLIDENTICAL3CROWS_col, 'CDLINNECK':out_CDLINNECK_col, 'CDLINVERTEDHAMMER':out_CDLINVERTEDHAMMER_col, 'CDLKICKING':out_CDLKICKING_col, 'CDLKICKINGBYLENGTH':out_CDLKICKINGBYLENGTH_col, 'CDLLADDERBOTTOM':out_CDLLADDERBOTTOM_col, 'CDLLONGLEGGEDDOJI':out_CDLLONGLEGGEDDOJI_col, 'CDLLONGLINE':out_CDLLONGLINE_col, 'CDLMARUBOZU':out_CDLMARUBOZU_col, 'CDLMATCHINGLOW':out_CDLMATCHINGLOW_col,'CDLEVENINGDOJISTAR' : out_CDLEVENINGDOJISTAR_col, 'CDLEVENINGSTAR' : out_CDLEVENINGSTAR_col ,'CDLGAPSIDESIDEWHITE' : out_CDLGAPSIDESIDEWHITE_col, 'CDLGRAVESTONEDOJI' : out_CDLGRAVESTONEDOJI_col, 'CDLHAMMER' : out_CDLHAMMER_col, 'CDLHANGINGMAN' : out_CDLHANGINGMAN_col, 'CDLHARAMI' : out_CDLHARAMI_col, 'CDLHARAMICROSS' : out_CDLHARAMICROSS_col, 'CDLHIGHWAVE' : out_CDLHIGHWAVE_col, 'CDLHIKKAKE' : out_CDLHIKKAKE_col,'CDLADVANCEBLOCK': out_CDLADVANCEBLOCK_col, 'CDLBELTHOLD': out_CDLBELTHOLD_col, 'CDLBREAKAWAY': out_CDLBREAKAWAY_col, 'CDLCLOSINGMARUBOZU': out_CDLCLOSINGMARUBOZU_col, 'CDLCONCEALBABYSWALL': out_CDLCONCEALBABYSWALL_col, 'CDLCOUNTERATTACK': out_CDLCOUNTERATTACK_col, 'CDLDOJI': out_CDLDOJI_col, 'CDLDOJISTAR': out_CDLDOJISTAR_col, 'CDLDRAGONFLYDOJI': out_CDLDRAGONFLYDOJI_col, 'CDLENGULFING': out_CDLENGULFING_col,'CDL3BLACKCROWS':out_CDL3BLACKCROWS_col,'CDL3INSIDE':out_CDL3INSIDE_col,'CDL3LINESTRIKE':out_CDL3LINESTRIKE_col,'CDL3OUTSIDE':out_CDL3OUTSIDE_col,'CDL3STARSINSOUTH':out_CDL3STARSINSOUTH_col,'CDL3WHITESOLDIERS':out_CDL3WHITESOLDIERS_col,'CDLMORNINGDOJISTAR':out_CDLMORNINGDOJISTAR_col,'CDLSHOOTINGSTAR':out_CDLSHOOTINGSTAR_col,'CDL2CROWS':out_CDL2CROWS_col})\n",
    "#make a csv \n",
    "df.to_csv(r'C:\\Users\\Amzad\\Desktop\\stock-price-prediction(main)\\Feature Engineering/technical_indicator.csv',index=False)"
   ]
  },
  {
   "cell_type": "code",
   "execution_count": 46,
   "metadata": {},
   "outputs": [
    {
     "data": {
      "text/plain": [
       "5789"
      ]
     },
     "execution_count": 46,
     "metadata": {},
     "output_type": "execute_result"
    }
   ],
   "source": [
    "len(breakout_indicator)"
   ]
  },
  {
   "cell_type": "code",
   "execution_count": 42,
   "metadata": {},
   "outputs": [
    {
     "name": "stdout",
     "output_type": "stream",
     "text": [
      "755\n"
     ]
    }
   ],
   "source": [
    "out_SMA_10=[]\n",
    "out_EMA_10=[] \n",
    "out_SMA_20=[]\n",
    "out_EMA_20=[]\n",
    "out_SMA_50=[]\n",
    "out_EMA_50=[]\n",
    "out_SMA_100=[]\n",
    "out_EMA_100=[]\n",
    "out_RSI=[]\n",
    "\n",
    "Stock_Squre_data = pd.read_csv(r'C:\\Users\\Amzad\\Desktop\\stock_prediction\\components\\Stock Price Dataset - SQURPHARMA.csv')\n",
    "date=Stock_Squre_data['Date']\n",
    "# take 1st 5 columns \n",
    "Stock_Squre_data = Stock_Squre_data.iloc[:,0:7]\n",
    "\n",
    "\n",
    "\n",
    "for i in range(100,5805,100):\n",
    "\n",
    "    \n",
    "\n",
    "     \n",
    "     \n",
    "    inputs = {\n",
    "          'open': Stock_Squre_data['Open'].iloc[i-100:i],               \n",
    "          'high': Stock_Squre_data['High'].iloc[i-100:i],\n",
    "          'low': Stock_Squre_data['Low'].iloc[i-100:i],\n",
    "          'close': Stock_Squre_data['Close'].iloc[i-100:i],\n",
    "          'volume': Stock_Squre_data['Volume'].iloc[i-100:i]\n",
    "               }\n",
    "    out_SMA_10.append(SMA(inputs,timeperiod=10))\n",
    "    out_EMA_10.append(EMA(inputs,timeperiod=10))\n",
    "    out_SMA_20.append(SMA(inputs,timeperiod=20))\n",
    "    out_EMA_20.append(EMA(inputs,timeperiod=20))\n",
    "    out_SMA_50.append(SMA(inputs,timeperiod=50))\n",
    "    out_EMA_50.append(EMA(inputs,timeperiod=50))\n",
    "    out_SMA_100.append(SMA(inputs,timeperiod=100))\n",
    "    out_EMA_100.append(EMA(inputs,timeperiod=100))\n",
    "    out_RSI.append(RSI(inputs,timeperiod=14))\n",
    "\n",
    "\n",
    "    #FOR LAST 5 DAYS \n",
    "    if i == 5800:\n",
    "        print(len(out_SMA))\n",
    "        inputs = {\n",
    "        'open': Stock_Squre_data['Open'].iloc[5800:5805],               \n",
    "        'high': Stock_Squre_data['High'].iloc[5800:5805],   \n",
    "        'low': Stock_Squre_data['Low'].iloc[5800:5805],\n",
    "        'close': Stock_Squre_data['Close'].iloc[5800:5805],\n",
    "        'volume': Stock_Squre_data['Volume'].iloc[5800:5805]\n",
    "            }\n",
    "        \n",
    "        last_5_day_SMA=SMA(inputs,timeperiod=5,)\n",
    "        last_5_day_EMA=EMA(inputs,timeperiod=5)\n",
    "        out_SMA_10.append(last_5_day_SMA)\n",
    "        out_EMA_10.append(last_5_day_EMA)\n",
    "        out_SMA_20.append(last_5_day_SMA)\n",
    "        out_EMA_20.append(last_5_day_EMA)\n",
    "        out_SMA_50.append(last_5_day_SMA)\n",
    "        out_EMA_50.append(last_5_day_EMA)\n",
    "        out_SMA_100.append(last_5_day_SMA)\n",
    "        out_EMA_100.append(last_5_day_EMA)\n",
    "        out_RSI.append(RSI(inputs,timeperiod=14))\n",
    "        \n",
    "\n",
    "out_SMA_10_col=[]\n",
    "out_EMA_10_col=[] \n",
    "out_SMA_20_col=[]\n",
    "out_EMA_20_col=[]\n",
    "out_SMA_50_col=[]\n",
    "out_EMA_50_col=[]\n",
    "out_SMA_100_col=[]\n",
    "out_EMA_100_col=[]   \n",
    "out_RSI_col=[]  \n",
    "\n",
    "for i in range(0,59):\n",
    "\n",
    "    for j in range(0,100):\n",
    "        try:\n",
    "            out_SMA_10_col.append(out_SMA_10[i][j])\n",
    "            out_EMA_10_col.append(out_EMA_10[i][j])\n",
    "            out_SMA_20_col.append(out_SMA_20[i][j])\n",
    "            out_EMA_20_col.append(out_EMA_20[i][j])\n",
    "            out_SMA_50_col.append(out_SMA_50[i][j]) \n",
    "            out_EMA_50_col.append(out_EMA_50[i][j])\n",
    "            out_SMA_100_col.append(out_SMA_100[i][j])\n",
    "            out_EMA_100_col.append(out_EMA_100[i][j])\n",
    "            out_RSI_col.append(out_RSI[i][j])\n",
    "\n",
    "        except:\n",
    "           pass\n",
    "\n",
    "\n"
   ]
  },
  {
   "cell_type": "code",
   "execution_count": 43,
   "metadata": {},
   "outputs": [
    {
     "name": "stdout",
     "output_type": "stream",
     "text": [
      "5805 5805 5805 5805 5805 5805 5805 5805 5805\n"
     ]
    }
   ],
   "source": [
    "print(len(out_SMA_10_col),len(out_EMA_10_col),len(out_SMA_20_col),len(out_EMA_20_col),len(out_SMA_50_col),len(out_EMA_50_col),len(out_SMA_100_col),len(out_EMA_100_col),len(out_RSI_col))"
   ]
  },
  {
   "cell_type": "code",
   "execution_count": 39,
   "metadata": {},
   "outputs": [],
   "source": [
    "#make dataframe \n",
    "\n",
    "df = pd.DataFrame({\"Date\": date, \"SMA_10\":out_SMA_10_col,'EMA_10':out_EMA_10_col,'RSI':out_RSI_col, \n",
    "                   'SMA_20':out_SMA_20_col,'EMA_20':out_EMA_20_col,'SMA_50':out_SMA_50_col,'EMA_50':out_EMA_50_col,'SMA_100':out_SMA_100_col,'EMA_100':out_EMA_100_col})\n",
    "\n",
    "#make a csv\n",
    "df.to_csv(r'C:\\Users\\Amzad\\Desktop\\stock-price-prediction(main)\\Feature Engineering/new_technical_indicator.csv',index=False)\n"
   ]
  }
 ],
 "metadata": {
  "kernelspec": {
   "display_name": "base",
   "language": "python",
   "name": "python3"
  },
  "language_info": {
   "codemirror_mode": {
    "name": "ipython",
    "version": 3
   },
   "file_extension": ".py",
   "mimetype": "text/x-python",
   "name": "python",
   "nbconvert_exporter": "python",
   "pygments_lexer": "ipython3",
   "version": "3.9.12"
  },
  "orig_nbformat": 4,
  "vscode": {
   "interpreter": {
    "hash": "4ef60fdc05b8c9d7c00029e41ed6e96799336c5489ef8cc1e2e0d70e844fa01c"
   }
  }
 },
 "nbformat": 4,
 "nbformat_minor": 2
}
