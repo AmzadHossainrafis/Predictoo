{
 "cells": [
  {
   "cell_type": "code",
   "execution_count": null,
   "metadata": {},
   "outputs": [],
   "source": [
    "import numpy as np\n",
    "import pandas as pd \n",
    "import matplotlib.pyplot as plt\n",
    "from sklearn.manifold import TSNE \n"
   ]
  },
  {
   "cell_type": "code",
   "execution_count": null,
   "metadata": {},
   "outputs": [],
   "source": [
    "#read train data \n",
    "train_data = pd.read_csv(r'C:\\Users\\Amzad\\Desktop\\sqph_stock_prediction\\artifacts\\train.csv')"
   ]
  },
  {
   "cell_type": "code",
   "execution_count": null,
   "metadata": {},
   "outputs": [],
   "source": [
    "date=train_data['Date'] \n",
    "#drop date column \n",
    "train_data.drop(['Date'], axis=1, inplace=True)"
   ]
  },
  {
   "cell_type": "code",
   "execution_count": null,
   "metadata": {},
   "outputs": [],
   "source": [
    "train_data.head()"
   ]
  },
  {
   "cell_type": "code",
   "execution_count": null,
   "metadata": {},
   "outputs": [],
   "source": [
    "#data formating  {\"prompt\":\"Company: BHFF insurance\\nProduct: allround insurance\\nAd:One stop shop for all your insurance needs!\\nSupported:\", \"completion\":\" yes\"}\n",
    "#drap date column \n",
    "\n",
    "\n",
    "\n",
    "row = {'prompt':'', 'completion':' '}\n",
    "dataset = []  \n",
    "for i in range(len(train_data)):\n",
    "    #add the row in prompt  open high low close\n",
    "    dates= date[i]\n",
    "    row['prompt'] = f'In dhaka stock exchange SQURPHARMA stock on {dates} '+str(train_data.iloc[i][train_data.columns].to_dict())\n",
    "    #add the row in completion\n",
    "    row['completion'] = train_data['Close'][i+1]\n",
    "\n",
    "\n",
    "\n",
    "    # #add the row in prompt  open high low close \n",
    "    # row['prompt'] = train_data.iloc[i][['Open', 'High', 'Low', 'Close','Volume']].to_dict()\n",
    "    # #add the row in completion\n",
    "    # row['completion'] = train_data['Close'][i+1]\n",
    "    \n",
    "    dataset.append(row)     \n",
    "    row = {}\n",
    "\n",
    "    if i == len(train_data)-2:\n",
    "        break\n",
    "\n",
    "\n",
    "\n"
   ]
  },
  {
   "cell_type": "code",
   "execution_count": null,
   "metadata": {},
   "outputs": [],
   "source": [
    "#replace all the [ ] with ' ' \n",
    "for i in range(len(dataset)):\n",
    "    dataset[i]['prompt'] = str(dataset[i]['prompt']).replace('{', ' ')\n",
    "    dataset[i]['prompt'] = str(dataset[i]['prompt']).replace('}', ' ')\n",
    "    dataset[i]['prompt'] = str(dataset[i]['prompt']).replace(\"'\", ' ')\n",
    "    #dataset[i]['prompt'] = str(dataset[i]['prompt']).replace(',', ' ')\n",
    "    dataset[i]['prompt'] = str(dataset[i]['prompt']).replace(':', ' ')\n",
    "    dataset[i]['prompt'] = str(dataset[i]['prompt']).replace('_', ' ')\n",
    "    dataset[i]['prompt'] = str(dataset[i]['prompt']).replace('CDL', ' ')\n",
    "    dataset[i]['prompt'] = str(dataset[i]['prompt']).replace('R1', '1st Resistance ')\n",
    "    dataset[i]['prompt'] = str(dataset[i]['prompt']).replace('R2', '2nd Resistance ')\n",
    "    dataset[i]['prompt'] = str(dataset[i]['prompt']).replace('Corr1', '1st Correlation ')\n",
    "    dataset[i]['prompt'] = str(dataset[i]['prompt']).replace('Corr2', '2nd Correlation')\n",
    "    dataset[i]['prompt'] = str(dataset[i]['prompt']).replace('SMA', 'Simple moving average of day ')\n",
    "    dataset[i]['prompt'] = str(dataset[i]['prompt']).replace('EMA', 'Exponential moving average of day ')\n",
    "    dataset[i]['prompt'] = str(dataset[i]['prompt']).replace('Open', 'Open price is')    \n",
    "    dataset[i]['prompt'] = str(dataset[i]['prompt']).replace('High', 'High price is')\n",
    "    dataset[i]['prompt'] = str(dataset[i]['prompt']).replace('Low ', 'Low price is')\n",
    "    dataset[i]['prompt'] = str(dataset[i]['prompt']).replace('Close', 'Close price is')\n",
    "    dataset[i]['prompt'] = str(dataset[i]['prompt']).replace('Volume is', 'Volume is')\n",
    "    dataset[i]['prompt'] = str(dataset[i]['prompt']).replace('DSES is', 'DSES index')\n",
    "    dataset[i]['prompt'] = str(dataset[i]['prompt']).replace('DSE is', 'DSE index')\n",
    "    dataset[i]['prompt'] = str(dataset[i]['prompt']).replace('DS30  is', 'DS30 index')\n",
    "    dataset[i]['prompt'] = str(dataset[i]['prompt']).replace('RSI', 'Relative Strength Index')\n",
    "    dataset[i]['prompt'] = str(dataset[i]['prompt']).replace('Foreign exchange Buy ', 'Foreign exchange Buing rate is') \n",
    "    dataset[i]['prompt'] = str(dataset[i]['prompt']).replace('Foreign exchange Sell ', 'Foreign exchange Selling rate is')\n",
    "    \n",
    "\n",
    "\n",
    "\n",
    "    \n",
    "\n",
    "    "
   ]
  },
  {
   "cell_type": "code",
   "execution_count": null,
   "metadata": {},
   "outputs": [],
   "source": [
    "#save the dataset in csv file \n",
    "df = pd.DataFrame(dataset)\n",
    "df.head()\n",
    "df.to_csv(r'C:\\Users\\Amzad\\Desktop\\sqph_stock_prediction\\artifacts\\gpt_dataset.csv', index=False)\n"
   ]
  },
  {
   "cell_type": "code",
   "execution_count": null,
   "metadata": {},
   "outputs": [],
   "source": []
  },
  {
   "cell_type": "code",
   "execution_count": null,
   "metadata": {},
   "outputs": [],
   "source": [
    "train_data.iloc[2]\n",
    "\n",
    "for i in range(len(train_data)): \n",
    "    print(train_data.iloc[i])\n",
    "    break"
   ]
  }
 ],
 "metadata": {
  "kernelspec": {
   "display_name": "base",
   "language": "python",
   "name": "python3"
  },
  "language_info": {
   "codemirror_mode": {
    "name": "ipython",
    "version": 3
   },
   "file_extension": ".py",
   "mimetype": "text/x-python",
   "name": "python",
   "nbconvert_exporter": "python",
   "pygments_lexer": "ipython3",
   "version": "3.9.12"
  },
  "orig_nbformat": 4
 },
 "nbformat": 4,
 "nbformat_minor": 2
}
