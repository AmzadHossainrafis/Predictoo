{
 "cells": [
  {
   "cell_type": "code",
   "execution_count": 1,
   "metadata": {},
   "outputs": [
    {
     "name": "stderr",
     "output_type": "stream",
     "text": [
      "usage: ipykernel_launcher.py [-h] [--n_past N_PAST] [--n_feture N_FETURE]\n",
      "ipykernel_launcher.py: error: unrecognized arguments: --ip=127.0.0.1 --stdin=9023 --control=9021 --hb=9020 --Session.signature_scheme=\"hmac-sha256\" --Session.key=b\"3cf39c6e-b1ac-4bbf-98d0-35e461ca7524\" --shell=9022 --transport=\"tcp\" --iopub=9024 --f=c:\\Users\\Amzad\\AppData\\Roaming\\jupyter\\runtime\\kernel-v2-10416smyXKEMyMPaN.json\n"
     ]
    },
    {
     "ename": "SystemExit",
     "evalue": "2",
     "output_type": "error",
     "traceback": [
      "An exception has occurred, use %tb to see the full traceback.\n",
      "\u001b[1;31mSystemExit\u001b[0m\u001b[1;31m:\u001b[0m 2\n"
     ]
    }
   ],
   "source": [
    "from src.components.data_injection import DataInjection \n",
    "from src.components.model_train import ModelTrain\n"
   ]
  },
  {
   "cell_type": "markdown",
   "metadata": {},
   "source": [
    "## update config file    \n",
    "\n",
    "1. dateset_path --> update to your dataset path  \n",
    "2. modemodel_path --> update to your model path\n",
    "\n",
    "\n",
    "\n"
   ]
  },
  {
   "cell_type": "code",
   "execution_count": 2,
   "metadata": {},
   "outputs": [
    {
     "ename": "CustomException",
     "evalue": "Error: 'function' object has no attribute 'dataset_path' in c:\\users\\amzad\\desktop\\predictoo\\src\\components\\data_injection.py at line 29",
     "output_type": "error",
     "traceback": [
      "\u001b[1;31m---------------------------------------------------------------------------\u001b[0m",
      "\u001b[1;31mAttributeError\u001b[0m                            Traceback (most recent call last)",
      "File \u001b[1;32mc:\\users\\amzad\\desktop\\predictoo\\src\\components\\data_injection.py:29\u001b[0m, in \u001b[0;36mDataInjection.initiate_data_injection\u001b[1;34m(self)\u001b[0m\n\u001b[0;32m     27\u001b[0m \u001b[39mtry\u001b[39;00m:\n\u001b[0;32m     28\u001b[0m     df \u001b[39m=\u001b[39m pd\u001b[39m.\u001b[39mread_csv(\n\u001b[1;32m---> 29\u001b[0m         \u001b[39mself\u001b[39;49m\u001b[39m.\u001b[39;49minitiate_data_injection\u001b[39m.\u001b[39;49mdataset_path)\n\u001b[0;32m     30\u001b[0m     logging\u001b[39m.\u001b[39minfo(\u001b[39m'\u001b[39m\u001b[39mData loaded successfully\u001b[39m\u001b[39m'\u001b[39m)\n",
      "\u001b[1;31mAttributeError\u001b[0m: 'function' object has no attribute 'dataset_path'",
      "\nDuring handling of the above exception, another exception occurred:\n",
      "\u001b[1;31mCustomException\u001b[0m                           Traceback (most recent call last)",
      "Cell \u001b[1;32mIn[2], line 2\u001b[0m\n\u001b[0;32m      1\u001b[0m data_injection \u001b[39m=\u001b[39m DataInjection() \n\u001b[1;32m----> 2\u001b[0m data_injection\u001b[39m.\u001b[39;49minitiate_data_injection() \n\u001b[0;32m      3\u001b[0m model_training \u001b[39m=\u001b[39m ModelTrain()\n\u001b[0;32m      4\u001b[0m model_training\u001b[39m.\u001b[39mtrainner(\u001b[39mr\u001b[39m\u001b[39m'\u001b[39m\u001b[39mC:\u001b[39m\u001b[39m\\\u001b[39m\u001b[39mUsers\u001b[39m\u001b[39m\\\u001b[39m\u001b[39mAmzad\u001b[39m\u001b[39m\\\u001b[39m\u001b[39mDesktop\u001b[39m\u001b[39m\\\u001b[39m\u001b[39mPREDICTOO\u001b[39m\u001b[39m\\\u001b[39m\u001b[39martifacts\u001b[39m\u001b[39m\\\u001b[39m\u001b[39mtrain.csv\u001b[39m\u001b[39m'\u001b[39m)\n",
      "File \u001b[1;32mc:\\users\\amzad\\desktop\\predictoo\\src\\components\\data_injection.py:58\u001b[0m, in \u001b[0;36mDataInjection.initiate_data_injection\u001b[1;34m(self)\u001b[0m\n\u001b[0;32m     56\u001b[0m \u001b[39mexcept\u001b[39;00m \u001b[39mException\u001b[39;00m \u001b[39mas\u001b[39;00m e:\n\u001b[0;32m     57\u001b[0m     logging\u001b[39m.\u001b[39merror(\u001b[39m'\u001b[39m\u001b[39mData loading failed\u001b[39m\u001b[39m'\u001b[39m)\n\u001b[1;32m---> 58\u001b[0m     \u001b[39mraise\u001b[39;00m CustomException(e, sys)\n",
      "\u001b[1;31mCustomException\u001b[0m: Error: 'function' object has no attribute 'dataset_path' in c:\\users\\amzad\\desktop\\predictoo\\src\\components\\data_injection.py at line 29"
     ]
    }
   ],
   "source": [
    "data_injection = DataInjection() \n",
    "data_injection.initiate_data_injection() \n",
    "model_training = ModelTrain()\n",
    "model_training.trainner(r'C:\\Users\\Amzad\\Desktop\\PREDICTOO\\artifacts\\train.csv')\n"
   ]
  }
 ],
 "metadata": {
  "kernelspec": {
   "display_name": "tf-gpu",
   "language": "python",
   "name": "python3"
  },
  "language_info": {
   "codemirror_mode": {
    "name": "ipython",
    "version": 3
   },
   "file_extension": ".py",
   "mimetype": "text/x-python",
   "name": "python",
   "nbconvert_exporter": "python",
   "pygments_lexer": "ipython3",
   "version": "3.9.16"
  },
  "orig_nbformat": 4
 },
 "nbformat": 4,
 "nbformat_minor": 2
}
