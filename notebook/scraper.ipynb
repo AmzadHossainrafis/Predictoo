{
 "cells": [
  {
   "cell_type": "code",
   "execution_count": 2,
   "metadata": {},
   "outputs": [],
   "source": [
    "from bs4 import BeautifulSoup\n",
    "import requests\n",
    "\n",
    "# URL of page to be scraped\n",
    "url = \"https://stocknow.com.bd/api/v1/instruments\""
   ]
  },
  {
   "cell_type": "code",
   "execution_count": 27,
   "metadata": {},
   "outputs": [
    {
     "name": "stdout",
     "output_type": "stream",
     "text": [
      "ds30: 2195.29 , dsex: 6290.2 , dses: 1368.25\n"
     ]
    }
   ],
   "source": [
    "# Retrieve page with the requests module \n",
    "response = requests.get(url)\n",
    "# Create BeautifulSoup object; parse with 'html.parser'\n",
    "soup = BeautifulSoup(response.text, 'html.parser')\n",
    "\n",
    "\n",
    "#conver it to json \n",
    "import json \n",
    "data = json.loads(soup.text)    \n",
    "\n",
    "ds30 = data['DS30'][\"close\"]\n",
    "dses = data['DSES'][\"close\"]\n",
    "dsex = data['DSEX'][\"close\"]\n",
    "\n",
    "print(f\"ds30: {ds30} , dsex: {dsex} , dses: {dses}\")\n",
    "\n"
   ]
  },
  {
   "cell_type": "code",
   "execution_count": null,
   "metadata": {},
   "outputs": [],
   "source": [
    "def collect_dxindex(url=\"https://stocknow.com.bd/api/v1/instruments\"):\n",
    "    response = requests.get(url)\n",
    "   \n",
    "    soup = BeautifulSoup(response.text, 'html.parser')\n",
    "    data = json.loads(soup.text)    \n",
    "\n",
    "    ds30 = data['DS30'][\"close\"]\n",
    "    dses = data['DSES'][\"close\"]\n",
    "    dsex = data['DSEX'][\"close\"]\n",
    "\n",
    "\n",
    "    return ds30, dsex, dses\n",
    "\n",
    "\n",
    "\n",
    "\n"
   ]
  }
 ],
 "metadata": {
  "kernelspec": {
   "display_name": "base",
   "language": "python",
   "name": "python3"
  },
  "language_info": {
   "codemirror_mode": {
    "name": "ipython",
    "version": 3
   },
   "file_extension": ".py",
   "mimetype": "text/x-python",
   "name": "python",
   "nbconvert_exporter": "python",
   "pygments_lexer": "ipython3",
   "version": "3.9.12"
  },
  "orig_nbformat": 4
 },
 "nbformat": 4,
 "nbformat_minor": 2
}
